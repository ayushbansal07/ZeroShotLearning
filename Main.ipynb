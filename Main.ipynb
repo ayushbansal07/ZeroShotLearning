{
 "cells": [
  {
   "cell_type": "code",
   "execution_count": 1,
   "metadata": {
    "collapsed": true
   },
   "outputs": [],
   "source": [
    "from data_parser import DataParser\n",
    "import os"
   ]
  },
  {
   "cell_type": "code",
   "execution_count": 2,
   "metadata": {
    "collapsed": true
   },
   "outputs": [],
   "source": [
    "DATA_DIR = 'data/askUbuntuData/metaExtract/'\n",
    "OUTPUT_DIR = \"output/\"\n",
    "if not os.path.exists(DATA_DIR+OUTPUT_DIR):\n",
    "    os.mkdir(DATA_DIR+OUTPUT_DIR)\n",
    "TAGS_FILE = 'Tags.xml'\n",
    "POSTS_FILE = 'Posts.xml'"
   ]
  },
  {
   "cell_type": "code",
   "execution_count": 3,
   "metadata": {
    "collapsed": true
   },
   "outputs": [],
   "source": [
    "dp = DataParser()"
   ]
  },
  {
   "cell_type": "code",
   "execution_count": 17,
   "metadata": {
    "collapsed": true
   },
   "outputs": [],
   "source": [
    "#tags_list = dp.get_tags(DATA_DIR+TAGS_FILE,10,DATA_DIR+OUTPUT_DIR+\"tags_json.json\")"
   ]
  },
  {
   "cell_type": "code",
   "execution_count": 18,
   "metadata": {
    "collapsed": true
   },
   "outputs": [],
   "source": [
    "#posts = dp.get_posts_and_tags(DATA_DIR+POSTS_FILE,DATA_DIR+OUTPUT_DIR+\"posts_json.json\")"
   ]
  },
  {
   "cell_type": "code",
   "execution_count": 4,
   "metadata": {
    "collapsed": true
   },
   "outputs": [],
   "source": [
    "import json"
   ]
  },
  {
   "cell_type": "code",
   "execution_count": null,
   "metadata": {},
   "outputs": [],
   "source": [
    "#with open(DATA_DIR+OUTPUT_DIR+\"tags_json.json\") as f:\n",
    "#    tags = json.loads(f.read())"
   ]
  },
  {
   "cell_type": "code",
   "execution_count": null,
   "metadata": {},
   "outputs": [],
   "source": [
    "#with open(DATA_DIR+OUTPUT_DIR+\"posts_json.json\") as f:\n",
    "#    posts = json.load(f)"
   ]
  },
  {
   "cell_type": "code",
   "execution_count": 12,
   "metadata": {},
   "outputs": [],
   "source": [
    "#dp.build_vocab(DATA_DIR+OUTPUT_DIR+\"posts_json.json\",8,DATA_DIR+OUTPUT_DIR+\"vocab_json_8.json\")"
   ]
  },
  {
   "cell_type": "code",
   "execution_count": 48,
   "metadata": {},
   "outputs": [],
   "source": [
    "'''\n",
    "cts = []\n",
    "for thresh in range(1,11):\n",
    "    ct = 0\n",
    "    for x in sorted_vocab:\n",
    "        if x[1] > thresh:\n",
    "            break\n",
    "        ct += 1\n",
    "    cts.append(ct)\n",
    "'''"
   ]
  },
  {
   "cell_type": "markdown",
   "metadata": {},
   "source": [
    "## MinCounts\n",
    "AskUbuntu - 10<br>\n",
    "Unix - 8<br>\n",
    "Dba - 4<br>\n",
    "SuperUser - 8"
   ]
  },
  {
   "cell_type": "code",
   "execution_count": null,
   "metadata": {},
   "outputs": [],
   "source": [
    "bow = dp.bag_of_words(DATA_DIR+OUTPUT_DIR+\"vocab_json_10.json\",DATA_DIR+OUTPUT_DIR+\"posts_json.json\",DATA_DIR+OUTPUT_DIR+\"bow.npy\")"
   ]
  },
  {
   "cell_type": "code",
   "execution_count": 7,
   "metadata": {},
   "outputs": [
    {
     "data": {
      "text/plain": [
       "(4964, 78098)"
      ]
     },
     "execution_count": 7,
     "metadata": {},
     "output_type": "execute_result"
    }
   ],
   "source": [
    "bow.shape"
   ]
  },
  {
   "cell_type": "code",
   "execution_count": null,
   "metadata": {
    "collapsed": true
   },
   "outputs": [],
   "source": []
  }
 ],
 "metadata": {
  "kernelspec": {
   "display_name": "Python 3",
   "language": "python",
   "name": "python3"
  },
  "language_info": {
   "codemirror_mode": {
    "name": "ipython",
    "version": 3
   },
   "file_extension": ".py",
   "mimetype": "text/x-python",
   "name": "python",
   "nbconvert_exporter": "python",
   "pygments_lexer": "ipython3",
   "version": "3.6.3"
  }
 },
 "nbformat": 4,
 "nbformat_minor": 2
}
