{
 "cells": [
  {
   "cell_type": "code",
   "execution_count": null,
   "metadata": {
    "collapsed": true
   },
   "outputs": [],
   "source": [
    "from data_parser import DataParser\n",
    "import os\n",
    "import numpy as np\n",
    "import json\n",
    "from sklearn.feature_extraction.text import TfidfTransformer\n",
    "from scipy import sparse"
   ]
  },
  {
   "cell_type": "code",
   "execution_count": null,
   "metadata": {
    "collapsed": true
   },
   "outputs": [],
   "source": [
    "DATA_DIR = 'data/dbaData/'\n",
    "OUTPUT_DIR = \"output/\"\n",
    "if not os.path.exists(DATA_DIR+OUTPUT_DIR):\n",
    "    os.mkdir(DATA_DIR+OUTPUT_DIR)\n",
    "TAGS_FILE = 'Tags.xml'\n",
    "POSTS_FILE = 'Posts.xml'"
   ]
  },
  {
   "cell_type": "code",
   "execution_count": null,
   "metadata": {
    "collapsed": true
   },
   "outputs": [],
   "source": [
    "dp = DataParser()"
   ]
  },
  {
   "cell_type": "code",
   "execution_count": null,
   "metadata": {
    "collapsed": true
   },
   "outputs": [],
   "source": [
    "#tags_list = dp.get_tags(DATA_DIR+TAGS_FILE,10,DATA_DIR+OUTPUT_DIR+\"tags_json.json\")"
   ]
  },
  {
   "cell_type": "code",
   "execution_count": null,
   "metadata": {},
   "outputs": [],
   "source": [
    "#posts = dp.get_posts_and_tags(DATA_DIR+POSTS_FILE,DATA_DIR+OUTPUT_DIR+\"posts_json_186k.json\",max_ques=186000)"
   ]
  },
  {
   "cell_type": "code",
   "execution_count": null,
   "metadata": {
    "collapsed": true
   },
   "outputs": [],
   "source": [
    "#with open(DATA_DIR+OUTPUT_DIR+\"tags_json.json\") as f:\n",
    "#    tags = json.loads(f.read())"
   ]
  },
  {
   "cell_type": "code",
   "execution_count": null,
   "metadata": {
    "collapsed": true
   },
   "outputs": [],
   "source": [
    "#with open(DATA_DIR+OUTPUT_DIR+\"posts_json.json\") as f:\n",
    "#    posts = json.load(f)\n",
    "#len(posts)"
   ]
  },
  {
   "cell_type": "code",
   "execution_count": null,
   "metadata": {
    "collapsed": true
   },
   "outputs": [],
   "source": [
    "#dp.build_vocab(DATA_DIR+OUTPUT_DIR+\"posts_json_186k.json\",58,DATA_DIR+OUTPUT_DIR+\"vocab_json_58.json\")"
   ]
  },
  {
   "cell_type": "code",
   "execution_count": null,
   "metadata": {},
   "outputs": [],
   "source": [
    "#vocab = dp.build_vocab(DATA_DIR+OUTPUT_DIR+\"posts_json.json\")\n",
    "#sorted_vocab = sorted(vocab.items(),key=lambda x: x[1],reverse=True)\n",
    "#sorted_vocab[15000]"
   ]
  },
  {
   "cell_type": "markdown",
   "metadata": {},
   "source": [
    "## MinCounts\n",
    "AskUbuntu - 46<br>\n",
    "Unix - 25<br>\n",
    "Dba - 15<br>\n",
    "SuperUser - 58"
   ]
  },
  {
   "cell_type": "code",
   "execution_count": null,
   "metadata": {
    "collapsed": true
   },
   "outputs": [],
   "source": [
    "dp.bag_of_words(DATA_DIR+OUTPUT_DIR+\"vocab_json_58.json\",DATA_DIR+OUTPUT_DIR+\"posts_json_186k.json\",\\\n",
    "                DATA_DIR+OUTPUT_DIR+\"bow_filter.npy\")"
   ]
  },
  {
   "cell_type": "code",
   "execution_count": null,
   "metadata": {},
   "outputs": [],
   "source": []
  },
  {
   "cell_type": "code",
   "execution_count": null,
   "metadata": {},
   "outputs": [],
   "source": [
    "#with open(DATA_DIR+OUTPUT_DIR+\"vocab_json_58.json\") as f:\n",
    "#    vocab = json.load(f)\n",
    "#len(vocab)"
   ]
  },
  {
   "cell_type": "code",
   "execution_count": null,
   "metadata": {
    "collapsed": true
   },
   "outputs": [],
   "source": [
    "tfidfTransformer = TfidfTransformer()"
   ]
  },
  {
   "cell_type": "code",
   "execution_count": null,
   "metadata": {
    "collapsed": true
   },
   "outputs": [],
   "source": [
    "bow = np.load(DATA_DIR+OUTPUT_DIR+\"bow_filter.npy\")"
   ]
  },
  {
   "cell_type": "code",
   "execution_count": null,
   "metadata": {
    "collapsed": true
   },
   "outputs": [],
   "source": [
    "tfidf_data = tfidfTransformer.fit_transform(bow)"
   ]
  },
  {
   "cell_type": "code",
   "execution_count": null,
   "metadata": {},
   "outputs": [],
   "source": [
    "tfidf_data.shape"
   ]
  },
  {
   "cell_type": "code",
   "execution_count": null,
   "metadata": {
    "collapsed": true
   },
   "outputs": [],
   "source": [
    "np.save(DATA_DIR+OUTPUT_DIR+\"tfifdf_transformed.npy\",tfidf_data)"
   ]
  },
  {
   "cell_type": "code",
   "execution_count": null,
   "metadata": {
    "collapsed": true
   },
   "outputs": [],
   "source": [
    "bow = np.load(DATA_DIR+OUTPUT_DIR+\"bow_filter.npy\")"
   ]
  },
  {
   "cell_type": "code",
   "execution_count": null,
   "metadata": {
    "collapsed": true
   },
   "outputs": [],
   "source": [
    "sp = sparse.csr_matrix(bow)"
   ]
  },
  {
   "cell_type": "code",
   "execution_count": null,
   "metadata": {
    "collapsed": true
   },
   "outputs": [],
   "source": [
    "np.save(DATA_DIR+OUTPUT_DIR+\"bow_sparse.npy\",sp)"
   ]
  },
  {
   "cell_type": "code",
   "execution_count": null,
   "metadata": {
    "collapsed": true
   },
   "outputs": [],
   "source": []
  }
 ],
 "metadata": {
  "kernelspec": {
   "display_name": "Python 3",
   "language": "python",
   "name": "python3"
  },
  "language_info": {
   "codemirror_mode": {
    "name": "ipython",
    "version": 3
   },
   "file_extension": ".py",
   "mimetype": "text/x-python",
   "name": "python",
   "nbconvert_exporter": "python",
   "pygments_lexer": "ipython3",
   "version": "3.6.3"
  }
 },
 "nbformat": 4,
 "nbformat_minor": 2
}
